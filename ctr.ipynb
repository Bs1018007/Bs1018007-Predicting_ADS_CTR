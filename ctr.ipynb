{
  "cells": [
    {
      "cell_type": "markdown",
      "metadata": {},
      "source": [
        "# Introduction\n",
        "\n",
        "This project focuses on predicting whether a user will click on an online advertisement using machine learning models. By analyzing user behavior (like internet usage, time on site) and demographic information (such as age, income, location), we train two models—Random Forest and XGBoost—to forecast ad clicks.\n",
        "\n",
        "Accurate CTR prediction helps marketers:\n",
        "    Target the right audience,\n",
        "    Increase conversion rates,\n",
        "    Improve ad placement and reduce wasted spend.\n"
      ]
    },
    {
      "cell_type": "markdown",
      "metadata": {},
      "source": [
        "# Importing Libraries"
      ]
    },
    {
      "cell_type": "code",
      "execution_count": 1,
      "metadata": {},
      "outputs": [],
      "source": [
        "import pandas as pd\n",
        "from sklearn.ensemble import RandomForestClassifier\n",
        "from sklearn.preprocessing import LabelEncoder\n",
        "from sklearn.metrics import classification_report, accuracy_score,confusion_matrix, roc_auc_score, roc_curve\n",
        "from sklearn.model_selection import train_test_split, GridSearchCV\n",
        "import matplotlib.pyplot as plt\n",
        "import xgboost as xgb\n",
        "import warnings\n",
        "warnings.filterwarnings(\"ignore\")\n"
      ]
    },
    {
      "cell_type": "markdown",
      "metadata": {},
      "source": [
        "# Loading the Dataset"
      ]
    },
    {
      "cell_type": "code",
      "execution_count": 2,
      "metadata": {
        "colab": {
          "base_uri": "https://localhost:8080/",
          "height": 310
        },
        "id": "b5S_ay_vYHjD",
        "outputId": "b581f5fe-ef88-48a9-8bbf-643646866a32"
      },
      "outputs": [
        {
          "data": {
            "text/html": [
              "<div>\n",
              "<style scoped>\n",
              "    .dataframe tbody tr th:only-of-type {\n",
              "        vertical-align: middle;\n",
              "    }\n",
              "\n",
              "    .dataframe tbody tr th {\n",
              "        vertical-align: top;\n",
              "    }\n",
              "\n",
              "    .dataframe thead th {\n",
              "        text-align: right;\n",
              "    }\n",
              "</style>\n",
              "<table border=\"1\" class=\"dataframe\">\n",
              "  <thead>\n",
              "    <tr style=\"text-align: right;\">\n",
              "      <th></th>\n",
              "      <th>Daily Time Spent on Site</th>\n",
              "      <th>Age</th>\n",
              "      <th>Area Income</th>\n",
              "      <th>Daily Internet Usage</th>\n",
              "      <th>Ad Topic Line</th>\n",
              "      <th>City</th>\n",
              "      <th>Gender</th>\n",
              "      <th>Country</th>\n",
              "      <th>Timestamp</th>\n",
              "      <th>Clicked on Ad</th>\n",
              "    </tr>\n",
              "  </thead>\n",
              "  <tbody>\n",
              "    <tr>\n",
              "      <th>0</th>\n",
              "      <td>62.26</td>\n",
              "      <td>32.0</td>\n",
              "      <td>69481.85</td>\n",
              "      <td>172.83</td>\n",
              "      <td>Decentralized real-time circuit</td>\n",
              "      <td>Lisafort</td>\n",
              "      <td>Male</td>\n",
              "      <td>Svalbard &amp; Jan Mayen Islands</td>\n",
              "      <td>2016-06-09 21:43:05</td>\n",
              "      <td>0</td>\n",
              "    </tr>\n",
              "    <tr>\n",
              "      <th>1</th>\n",
              "      <td>41.73</td>\n",
              "      <td>31.0</td>\n",
              "      <td>61840.26</td>\n",
              "      <td>207.17</td>\n",
              "      <td>Optional full-range projection</td>\n",
              "      <td>West Angelabury</td>\n",
              "      <td>Male</td>\n",
              "      <td>Singapore</td>\n",
              "      <td>2016-01-16 17:56:05</td>\n",
              "      <td>0</td>\n",
              "    </tr>\n",
              "    <tr>\n",
              "      <th>2</th>\n",
              "      <td>44.40</td>\n",
              "      <td>30.0</td>\n",
              "      <td>57877.15</td>\n",
              "      <td>172.83</td>\n",
              "      <td>Total 5thgeneration standardization</td>\n",
              "      <td>Reyesfurt</td>\n",
              "      <td>Female</td>\n",
              "      <td>Guadeloupe</td>\n",
              "      <td>2016-06-29 10:50:45</td>\n",
              "      <td>0</td>\n",
              "    </tr>\n",
              "    <tr>\n",
              "      <th>3</th>\n",
              "      <td>59.88</td>\n",
              "      <td>28.0</td>\n",
              "      <td>56180.93</td>\n",
              "      <td>207.17</td>\n",
              "      <td>Balanced empowering success</td>\n",
              "      <td>New Michael</td>\n",
              "      <td>Female</td>\n",
              "      <td>Zambia</td>\n",
              "      <td>2016-06-21 14:32:32</td>\n",
              "      <td>0</td>\n",
              "    </tr>\n",
              "    <tr>\n",
              "      <th>4</th>\n",
              "      <td>49.21</td>\n",
              "      <td>30.0</td>\n",
              "      <td>54324.73</td>\n",
              "      <td>201.58</td>\n",
              "      <td>Total 5thgeneration standardization</td>\n",
              "      <td>West Richard</td>\n",
              "      <td>Female</td>\n",
              "      <td>Qatar</td>\n",
              "      <td>2016-07-21 10:54:35</td>\n",
              "      <td>1</td>\n",
              "    </tr>\n",
              "  </tbody>\n",
              "</table>\n",
              "</div>"
            ],
            "text/plain": [
              "   Daily Time Spent on Site   Age  Area Income  Daily Internet Usage  \\\n",
              "0                     62.26  32.0     69481.85                172.83   \n",
              "1                     41.73  31.0     61840.26                207.17   \n",
              "2                     44.40  30.0     57877.15                172.83   \n",
              "3                     59.88  28.0     56180.93                207.17   \n",
              "4                     49.21  30.0     54324.73                201.58   \n",
              "\n",
              "                         Ad Topic Line             City  Gender  \\\n",
              "0      Decentralized real-time circuit         Lisafort    Male   \n",
              "1       Optional full-range projection  West Angelabury    Male   \n",
              "2  Total 5thgeneration standardization        Reyesfurt  Female   \n",
              "3          Balanced empowering success      New Michael  Female   \n",
              "4  Total 5thgeneration standardization     West Richard  Female   \n",
              "\n",
              "                        Country            Timestamp  Clicked on Ad  \n",
              "0  Svalbard & Jan Mayen Islands  2016-06-09 21:43:05              0  \n",
              "1                     Singapore  2016-01-16 17:56:05              0  \n",
              "2                    Guadeloupe  2016-06-29 10:50:45              0  \n",
              "3                        Zambia  2016-06-21 14:32:32              0  \n",
              "4                         Qatar  2016-07-21 10:54:35              1  "
            ]
          },
          "execution_count": 2,
          "metadata": {},
          "output_type": "execute_result"
        }
      ],
      "source": [
        "df = pd.read_csv('ad.csv')\n",
        "df.head()"
      ]
    },
    {
      "cell_type": "markdown",
      "metadata": {},
      "source": [
        "# Feature Extraction"
      ]
    },
    {
      "cell_type": "code",
      "execution_count": 3,
      "metadata": {
        "colab": {
          "base_uri": "https://localhost:8080/",
          "height": 469
        },
        "id": "RdFSg50UYK-P",
        "outputId": "3aa2c7ae-9e50-4be3-f2a8-dd955079016f"
      },
      "outputs": [
        {
          "data": {
            "text/html": [
              "<div>\n",
              "<style scoped>\n",
              "    .dataframe tbody tr th:only-of-type {\n",
              "        vertical-align: middle;\n",
              "    }\n",
              "\n",
              "    .dataframe tbody tr th {\n",
              "        vertical-align: top;\n",
              "    }\n",
              "\n",
              "    .dataframe thead th {\n",
              "        text-align: right;\n",
              "    }\n",
              "</style>\n",
              "<table border=\"1\" class=\"dataframe\">\n",
              "  <thead>\n",
              "    <tr style=\"text-align: right;\">\n",
              "      <th></th>\n",
              "      <th>Daily Time Spent on Site</th>\n",
              "      <th>Age</th>\n",
              "      <th>Area Income</th>\n",
              "      <th>Daily Internet Usage</th>\n",
              "      <th>Ad Topic Line</th>\n",
              "      <th>City</th>\n",
              "      <th>Gender</th>\n",
              "      <th>Country</th>\n",
              "      <th>Timestamp</th>\n",
              "      <th>Clicked on Ad</th>\n",
              "      <th>Hour</th>\n",
              "      <th>Day</th>\n",
              "      <th>Month</th>\n",
              "      <th>DayOfWeek</th>\n",
              "      <th>Is_Weekend</th>\n",
              "      <th>Part_Of_Day</th>\n",
              "      <th>AgeGroup</th>\n",
              "      <th>IncomeGroup</th>\n",
              "      <th>Site_Internet_Interaction</th>\n",
              "      <th>Age_Income_Interaction</th>\n",
              "    </tr>\n",
              "  </thead>\n",
              "  <tbody>\n",
              "    <tr>\n",
              "      <th>0</th>\n",
              "      <td>62.26</td>\n",
              "      <td>32.0</td>\n",
              "      <td>69481.85</td>\n",
              "      <td>172.83</td>\n",
              "      <td>Decentralized real-time circuit</td>\n",
              "      <td>Lisafort</td>\n",
              "      <td>Male</td>\n",
              "      <td>Svalbard &amp; Jan Mayen Islands</td>\n",
              "      <td>2016-06-09 21:43:05</td>\n",
              "      <td>0</td>\n",
              "      <td>21</td>\n",
              "      <td>9</td>\n",
              "      <td>6</td>\n",
              "      <td>3</td>\n",
              "      <td>0</td>\n",
              "      <td>3</td>\n",
              "      <td>1</td>\n",
              "      <td>3</td>\n",
              "      <td>10760.3958</td>\n",
              "      <td>2223419.20</td>\n",
              "    </tr>\n",
              "    <tr>\n",
              "      <th>1</th>\n",
              "      <td>41.73</td>\n",
              "      <td>31.0</td>\n",
              "      <td>61840.26</td>\n",
              "      <td>207.17</td>\n",
              "      <td>Optional full-range projection</td>\n",
              "      <td>West Angelabury</td>\n",
              "      <td>Male</td>\n",
              "      <td>Singapore</td>\n",
              "      <td>2016-01-16 17:56:05</td>\n",
              "      <td>0</td>\n",
              "      <td>17</td>\n",
              "      <td>16</td>\n",
              "      <td>1</td>\n",
              "      <td>5</td>\n",
              "      <td>1</td>\n",
              "      <td>1</td>\n",
              "      <td>1</td>\n",
              "      <td>2</td>\n",
              "      <td>8645.2041</td>\n",
              "      <td>1917048.06</td>\n",
              "    </tr>\n",
              "    <tr>\n",
              "      <th>2</th>\n",
              "      <td>44.40</td>\n",
              "      <td>30.0</td>\n",
              "      <td>57877.15</td>\n",
              "      <td>172.83</td>\n",
              "      <td>Total 5thgeneration standardization</td>\n",
              "      <td>Reyesfurt</td>\n",
              "      <td>Female</td>\n",
              "      <td>Guadeloupe</td>\n",
              "      <td>2016-06-29 10:50:45</td>\n",
              "      <td>0</td>\n",
              "      <td>10</td>\n",
              "      <td>29</td>\n",
              "      <td>6</td>\n",
              "      <td>2</td>\n",
              "      <td>0</td>\n",
              "      <td>2</td>\n",
              "      <td>1</td>\n",
              "      <td>2</td>\n",
              "      <td>7673.6520</td>\n",
              "      <td>1736314.50</td>\n",
              "    </tr>\n",
              "    <tr>\n",
              "      <th>3</th>\n",
              "      <td>59.88</td>\n",
              "      <td>28.0</td>\n",
              "      <td>56180.93</td>\n",
              "      <td>207.17</td>\n",
              "      <td>Balanced empowering success</td>\n",
              "      <td>New Michael</td>\n",
              "      <td>Female</td>\n",
              "      <td>Zambia</td>\n",
              "      <td>2016-06-21 14:32:32</td>\n",
              "      <td>0</td>\n",
              "      <td>14</td>\n",
              "      <td>21</td>\n",
              "      <td>6</td>\n",
              "      <td>1</td>\n",
              "      <td>0</td>\n",
              "      <td>0</td>\n",
              "      <td>1</td>\n",
              "      <td>1</td>\n",
              "      <td>12405.3396</td>\n",
              "      <td>1573066.04</td>\n",
              "    </tr>\n",
              "    <tr>\n",
              "      <th>4</th>\n",
              "      <td>49.21</td>\n",
              "      <td>30.0</td>\n",
              "      <td>54324.73</td>\n",
              "      <td>201.58</td>\n",
              "      <td>Total 5thgeneration standardization</td>\n",
              "      <td>West Richard</td>\n",
              "      <td>Female</td>\n",
              "      <td>Qatar</td>\n",
              "      <td>2016-07-21 10:54:35</td>\n",
              "      <td>1</td>\n",
              "      <td>10</td>\n",
              "      <td>21</td>\n",
              "      <td>7</td>\n",
              "      <td>3</td>\n",
              "      <td>0</td>\n",
              "      <td>2</td>\n",
              "      <td>1</td>\n",
              "      <td>1</td>\n",
              "      <td>9919.7518</td>\n",
              "      <td>1629741.90</td>\n",
              "    </tr>\n",
              "  </tbody>\n",
              "</table>\n",
              "</div>"
            ],
            "text/plain": [
              "   Daily Time Spent on Site   Age  Area Income  Daily Internet Usage  \\\n",
              "0                     62.26  32.0     69481.85                172.83   \n",
              "1                     41.73  31.0     61840.26                207.17   \n",
              "2                     44.40  30.0     57877.15                172.83   \n",
              "3                     59.88  28.0     56180.93                207.17   \n",
              "4                     49.21  30.0     54324.73                201.58   \n",
              "\n",
              "                         Ad Topic Line             City  Gender  \\\n",
              "0      Decentralized real-time circuit         Lisafort    Male   \n",
              "1       Optional full-range projection  West Angelabury    Male   \n",
              "2  Total 5thgeneration standardization        Reyesfurt  Female   \n",
              "3          Balanced empowering success      New Michael  Female   \n",
              "4  Total 5thgeneration standardization     West Richard  Female   \n",
              "\n",
              "                        Country           Timestamp  Clicked on Ad  Hour  Day  \\\n",
              "0  Svalbard & Jan Mayen Islands 2016-06-09 21:43:05              0    21    9   \n",
              "1                     Singapore 2016-01-16 17:56:05              0    17   16   \n",
              "2                    Guadeloupe 2016-06-29 10:50:45              0    10   29   \n",
              "3                        Zambia 2016-06-21 14:32:32              0    14   21   \n",
              "4                         Qatar 2016-07-21 10:54:35              1    10   21   \n",
              "\n",
              "   Month  DayOfWeek  Is_Weekend  Part_Of_Day AgeGroup IncomeGroup  \\\n",
              "0      6          3           0            3        1           3   \n",
              "1      1          5           1            1        1           2   \n",
              "2      6          2           0            2        1           2   \n",
              "3      6          1           0            0        1           1   \n",
              "4      7          3           0            2        1           1   \n",
              "\n",
              "   Site_Internet_Interaction  Age_Income_Interaction  \n",
              "0                 10760.3958              2223419.20  \n",
              "1                  8645.2041              1917048.06  \n",
              "2                  7673.6520              1736314.50  \n",
              "3                 12405.3396              1573066.04  \n",
              "4                  9919.7518              1629741.90  "
            ]
          },
          "execution_count": 3,
          "metadata": {},
          "output_type": "execute_result"
        }
      ],
      "source": [
        "df['Timestamp'] = pd.to_datetime(df['Timestamp'])\n",
        "df['Hour'] = df['Timestamp'].dt.hour\n",
        "df['Day'] = df['Timestamp'].dt.day\n",
        "df['Month'] = df['Timestamp'].dt.month\n",
        "df['DayOfWeek'] = df['Timestamp'].dt.dayofweek\n",
        "df['Is_Weekend'] = df['DayOfWeek'].isin([5, 6]).astype(int)\n",
        "\n",
        "def part_of_day(hour):\n",
        "    if 5 <= hour < 12:\n",
        "        return 'Morning'\n",
        "    elif 12 <= hour < 17:\n",
        "        return 'Afternoon'\n",
        "    elif 17 <= hour < 21:\n",
        "        return 'Evening'\n",
        "    else:\n",
        "        return 'Night'\n",
        "\n",
        "df['Part_Of_Day'] = df['Hour'].apply(part_of_day)\n",
        "df['Part_Of_Day'] = LabelEncoder().fit_transform(df['Part_Of_Day'])\n",
        "\n",
        "df['AgeGroup'] = pd.cut(df['Age'], bins=[17, 25, 35, 50, 65], labels=[0, 1, 2, 3])\n",
        "df['IncomeGroup'] = pd.qcut(df['Area Income'], q=4, labels=[0, 1, 2, 3])\n",
        "\n",
        "df['Site_Internet_Interaction'] = df['Daily Time Spent on Site'] * df['Daily Internet Usage']\n",
        "df['Age_Income_Interaction'] = df['Age'] * df['Area Income']\n",
        "df.head()"
      ]
    },
    {
      "cell_type": "markdown",
      "metadata": {},
      "source": [
        "# Encoding Categorical Data Using Label Encoder"
      ]
    },
    {
      "cell_type": "code",
      "execution_count": 4,
      "metadata": {
        "colab": {
          "base_uri": "https://localhost:8080/",
          "height": 451
        },
        "id": "myVv2t75YOBl",
        "outputId": "6b9eb3e2-27f3-4205-cfaf-733203a84e50"
      },
      "outputs": [
        {
          "data": {
            "text/html": [
              "<div>\n",
              "<style scoped>\n",
              "    .dataframe tbody tr th:only-of-type {\n",
              "        vertical-align: middle;\n",
              "    }\n",
              "\n",
              "    .dataframe tbody tr th {\n",
              "        vertical-align: top;\n",
              "    }\n",
              "\n",
              "    .dataframe thead th {\n",
              "        text-align: right;\n",
              "    }\n",
              "</style>\n",
              "<table border=\"1\" class=\"dataframe\">\n",
              "  <thead>\n",
              "    <tr style=\"text-align: right;\">\n",
              "      <th></th>\n",
              "      <th>Daily Time Spent on Site</th>\n",
              "      <th>Age</th>\n",
              "      <th>Area Income</th>\n",
              "      <th>Daily Internet Usage</th>\n",
              "      <th>Ad Topic Line</th>\n",
              "      <th>City</th>\n",
              "      <th>Gender</th>\n",
              "      <th>Country</th>\n",
              "      <th>Timestamp</th>\n",
              "      <th>Clicked on Ad</th>\n",
              "      <th>Hour</th>\n",
              "      <th>Day</th>\n",
              "      <th>Month</th>\n",
              "      <th>DayOfWeek</th>\n",
              "      <th>Is_Weekend</th>\n",
              "      <th>Part_Of_Day</th>\n",
              "      <th>AgeGroup</th>\n",
              "      <th>IncomeGroup</th>\n",
              "      <th>Site_Internet_Interaction</th>\n",
              "      <th>Age_Income_Interaction</th>\n",
              "    </tr>\n",
              "  </thead>\n",
              "  <tbody>\n",
              "    <tr>\n",
              "      <th>0</th>\n",
              "      <td>62.26</td>\n",
              "      <td>32.0</td>\n",
              "      <td>69481.85</td>\n",
              "      <td>172.83</td>\n",
              "      <td>Decentralized real-time circuit</td>\n",
              "      <td>234</td>\n",
              "      <td>1</td>\n",
              "      <td>174</td>\n",
              "      <td>2016-06-09 21:43:05</td>\n",
              "      <td>0</td>\n",
              "      <td>21</td>\n",
              "      <td>9</td>\n",
              "      <td>6</td>\n",
              "      <td>3</td>\n",
              "      <td>0</td>\n",
              "      <td>3</td>\n",
              "      <td>1</td>\n",
              "      <td>3</td>\n",
              "      <td>10760.3958</td>\n",
              "      <td>2223419.20</td>\n",
              "    </tr>\n",
              "    <tr>\n",
              "      <th>1</th>\n",
              "      <td>41.73</td>\n",
              "      <td>31.0</td>\n",
              "      <td>61840.26</td>\n",
              "      <td>207.17</td>\n",
              "      <td>Optional full-range projection</td>\n",
              "      <td>460</td>\n",
              "      <td>1</td>\n",
              "      <td>166</td>\n",
              "      <td>2016-01-16 17:56:05</td>\n",
              "      <td>0</td>\n",
              "      <td>17</td>\n",
              "      <td>16</td>\n",
              "      <td>1</td>\n",
              "      <td>5</td>\n",
              "      <td>1</td>\n",
              "      <td>1</td>\n",
              "      <td>1</td>\n",
              "      <td>2</td>\n",
              "      <td>8645.2041</td>\n",
              "      <td>1917048.06</td>\n",
              "    </tr>\n",
              "    <tr>\n",
              "      <th>2</th>\n",
              "      <td>44.40</td>\n",
              "      <td>30.0</td>\n",
              "      <td>57877.15</td>\n",
              "      <td>172.83</td>\n",
              "      <td>Total 5thgeneration standardization</td>\n",
              "      <td>379</td>\n",
              "      <td>0</td>\n",
              "      <td>71</td>\n",
              "      <td>2016-06-29 10:50:45</td>\n",
              "      <td>0</td>\n",
              "      <td>10</td>\n",
              "      <td>29</td>\n",
              "      <td>6</td>\n",
              "      <td>2</td>\n",
              "      <td>0</td>\n",
              "      <td>2</td>\n",
              "      <td>1</td>\n",
              "      <td>2</td>\n",
              "      <td>7673.6520</td>\n",
              "      <td>1736314.50</td>\n",
              "    </tr>\n",
              "    <tr>\n",
              "      <th>3</th>\n",
              "      <td>59.88</td>\n",
              "      <td>28.0</td>\n",
              "      <td>56180.93</td>\n",
              "      <td>207.17</td>\n",
              "      <td>Balanced empowering success</td>\n",
              "      <td>269</td>\n",
              "      <td>0</td>\n",
              "      <td>205</td>\n",
              "      <td>2016-06-21 14:32:32</td>\n",
              "      <td>0</td>\n",
              "      <td>14</td>\n",
              "      <td>21</td>\n",
              "      <td>6</td>\n",
              "      <td>1</td>\n",
              "      <td>0</td>\n",
              "      <td>0</td>\n",
              "      <td>1</td>\n",
              "      <td>1</td>\n",
              "      <td>12405.3396</td>\n",
              "      <td>1573066.04</td>\n",
              "    </tr>\n",
              "    <tr>\n",
              "      <th>4</th>\n",
              "      <td>49.21</td>\n",
              "      <td>30.0</td>\n",
              "      <td>54324.73</td>\n",
              "      <td>201.58</td>\n",
              "      <td>Total 5thgeneration standardization</td>\n",
              "      <td>495</td>\n",
              "      <td>0</td>\n",
              "      <td>149</td>\n",
              "      <td>2016-07-21 10:54:35</td>\n",
              "      <td>1</td>\n",
              "      <td>10</td>\n",
              "      <td>21</td>\n",
              "      <td>7</td>\n",
              "      <td>3</td>\n",
              "      <td>0</td>\n",
              "      <td>2</td>\n",
              "      <td>1</td>\n",
              "      <td>1</td>\n",
              "      <td>9919.7518</td>\n",
              "      <td>1629741.90</td>\n",
              "    </tr>\n",
              "  </tbody>\n",
              "</table>\n",
              "</div>"
            ],
            "text/plain": [
              "   Daily Time Spent on Site   Age  Area Income  Daily Internet Usage  \\\n",
              "0                     62.26  32.0     69481.85                172.83   \n",
              "1                     41.73  31.0     61840.26                207.17   \n",
              "2                     44.40  30.0     57877.15                172.83   \n",
              "3                     59.88  28.0     56180.93                207.17   \n",
              "4                     49.21  30.0     54324.73                201.58   \n",
              "\n",
              "                         Ad Topic Line  City  Gender  Country  \\\n",
              "0      Decentralized real-time circuit   234       1      174   \n",
              "1       Optional full-range projection   460       1      166   \n",
              "2  Total 5thgeneration standardization   379       0       71   \n",
              "3          Balanced empowering success   269       0      205   \n",
              "4  Total 5thgeneration standardization   495       0      149   \n",
              "\n",
              "            Timestamp  Clicked on Ad  Hour  Day  Month  DayOfWeek  Is_Weekend  \\\n",
              "0 2016-06-09 21:43:05              0    21    9      6          3           0   \n",
              "1 2016-01-16 17:56:05              0    17   16      1          5           1   \n",
              "2 2016-06-29 10:50:45              0    10   29      6          2           0   \n",
              "3 2016-06-21 14:32:32              0    14   21      6          1           0   \n",
              "4 2016-07-21 10:54:35              1    10   21      7          3           0   \n",
              "\n",
              "   Part_Of_Day AgeGroup IncomeGroup  Site_Internet_Interaction  \\\n",
              "0            3        1           3                 10760.3958   \n",
              "1            1        1           2                  8645.2041   \n",
              "2            2        1           2                  7673.6520   \n",
              "3            0        1           1                 12405.3396   \n",
              "4            2        1           1                  9919.7518   \n",
              "\n",
              "   Age_Income_Interaction  \n",
              "0              2223419.20  \n",
              "1              1917048.06  \n",
              "2              1736314.50  \n",
              "3              1573066.04  \n",
              "4              1629741.90  "
            ]
          },
          "execution_count": 4,
          "metadata": {},
          "output_type": "execute_result"
        }
      ],
      "source": [
        "label_encoders = {}\n",
        "for col in ['City', 'Gender', 'Country']:\n",
        "    label_encoders[col] = LabelEncoder()\n",
        "    df[col] = label_encoders[col].fit_transform(df[col])\n",
        "df.head()"
      ]
    },
    {
      "cell_type": "markdown",
      "metadata": {},
      "source": [
        "# Feature Selection"
      ]
    },
    {
      "cell_type": "code",
      "execution_count": 5,
      "metadata": {
        "id": "qcOeksO-YTYU"
      },
      "outputs": [],
      "source": [
        "\n",
        "x = df.drop(['Clicked on Ad', 'Ad Topic Line', 'Timestamp'], axis=1)\n",
        "y = df['Clicked on Ad']"
      ]
    },
    {
      "cell_type": "markdown",
      "metadata": {},
      "source": [
        "# Training and Testing the Dataset"
      ]
    },
    {
      "cell_type": "code",
      "execution_count": 6,
      "metadata": {
        "id": "D5G2H6q-YXlk"
      },
      "outputs": [],
      "source": [
        "x_train, x_test, y_train, y_test = train_test_split(x, y, test_size=0.2, random_state=42)"
      ]
    },
    {
      "cell_type": "markdown",
      "metadata": {},
      "source": [
        "# Model Accuracy (Random Forest)"
      ]
    },
    {
      "cell_type": "code",
      "execution_count": 7,
      "metadata": {
        "colab": {
          "base_uri": "https://localhost:8080/"
        },
        "id": "gA34_nCEYalg",
        "outputId": "7b3d7b0c-1b42-4e9f-c6d8-5e0efa340df0"
      },
      "outputs": [
        {
          "name": "stdout",
          "output_type": "stream",
          "text": [
            "RandomForest Accuracy: 0.8425\n"
          ]
        }
      ],
      "source": [
        "clf_rf = RandomForestClassifier(n_estimators=100, random_state=42)\n",
        "clf_rf.fit(x_train, y_train)\n",
        "y_pred_rf = clf_rf.predict(x_test)\n",
        "print(f\"RandomForest Accuracy: {accuracy_score(y_test, y_pred_rf):.4f}\")"
      ]
    },
    {
      "cell_type": "markdown",
      "metadata": {
        "id": "xkm9xrBybYPw"
      },
      "source": [
        "# Classification Report (Random Forest)"
      ]
    },
    {
      "cell_type": "code",
      "execution_count": 8,
      "metadata": {
        "colab": {
          "base_uri": "https://localhost:8080/"
        },
        "id": "MWkqA08qYjgD",
        "outputId": "cfbfd24b-a4ae-41aa-e36f-cd51bfe51b5e"
      },
      "outputs": [
        {
          "name": "stdout",
          "output_type": "stream",
          "text": [
            "\n",
            "RandomForest Classification Report:\n",
            "              precision    recall  f1-score    support\n",
            "0              0.831909  0.863905  0.847605  1014.0000\n",
            "1              0.854277  0.820487  0.837041   986.0000\n",
            "accuracy       0.842500  0.842500  0.842500     0.8425\n",
            "macro avg      0.843093  0.842196  0.842323  2000.0000\n",
            "weighted avg   0.842936  0.842500  0.842397  2000.0000\n",
            "RandomForest Confusion Matrix:\n",
            "[[876 138]\n",
            " [177 809]]\n"
          ]
        }
      ],
      "source": [
        "print(\"\\nRandomForest Classification Report:\")\n",
        "print(pd.DataFrame(classification_report(y_test, y_pred_rf, output_dict=True)).transpose())\n",
        "\n",
        "print(\"RandomForest Confusion Matrix:\")\n",
        "print(confusion_matrix(y_test, y_pred_rf))"
      ]
    },
    {
      "cell_type": "markdown",
      "metadata": {},
      "source": [
        "# Feature Importance (Random Forest)"
      ]
    },
    {
      "cell_type": "code",
      "execution_count": 9,
      "metadata": {
        "colab": {
          "base_uri": "https://localhost:8080/",
          "height": 607
        },
        "id": "ROJNvFrScUAv",
        "outputId": "5158a00f-9e0b-4775-d0e8-56b520fc129b"
      },
      "outputs": [
        {
          "ename": "NameError",
          "evalue": "name 'sns' is not defined",
          "output_type": "error",
          "traceback": [
            "\u001b[31m---------------------------------------------------------------------------\u001b[39m",
            "\u001b[31mNameError\u001b[39m                                 Traceback (most recent call last)",
            "\u001b[36mCell\u001b[39m\u001b[36m \u001b[39m\u001b[32mIn[9]\u001b[39m\u001b[32m, line 9\u001b[39m\n\u001b[32m      3\u001b[39m rf_importance_df = pd.DataFrame({\n\u001b[32m      4\u001b[39m     \u001b[33m'\u001b[39m\u001b[33mfeature\u001b[39m\u001b[33m'\u001b[39m: rf_feature_names,\n\u001b[32m      5\u001b[39m     \u001b[33m'\u001b[39m\u001b[33mimportance\u001b[39m\u001b[33m'\u001b[39m: (rf_importances / \u001b[38;5;28msum\u001b[39m(rf_importances)) * \u001b[32m100\u001b[39m\n\u001b[32m      6\u001b[39m }).sort_values(by=\u001b[33m'\u001b[39m\u001b[33mimportance\u001b[39m\u001b[33m'\u001b[39m, ascending=\u001b[38;5;28;01mFalse\u001b[39;00m)\n\u001b[32m      8\u001b[39m plt.figure(figsize=(\u001b[32m10\u001b[39m, \u001b[32m8\u001b[39m))\n\u001b[32m----> \u001b[39m\u001b[32m9\u001b[39m \u001b[43msns\u001b[49m.set_style(\u001b[33m\"\u001b[39m\u001b[33mwhitegrid\u001b[39m\u001b[33m\"\u001b[39m)\n\u001b[32m     10\u001b[39m barplot = sns.barplot(\n\u001b[32m     11\u001b[39m     x=\u001b[33m\"\u001b[39m\u001b[33mimportance\u001b[39m\u001b[33m\"\u001b[39m, y=\u001b[33m\"\u001b[39m\u001b[33mfeature\u001b[39m\u001b[33m\"\u001b[39m,\n\u001b[32m     12\u001b[39m     data=rf_importance_df,\n\u001b[32m     13\u001b[39m     hue=\u001b[33m\"\u001b[39m\u001b[33mfeature\u001b[39m\u001b[33m\"\u001b[39m,\n\u001b[32m     14\u001b[39m     palette=\u001b[33m\"\u001b[39m\u001b[33mcrest\u001b[39m\u001b[33m\"\u001b[39m\n\u001b[32m     15\u001b[39m )\n\u001b[32m     16\u001b[39m \u001b[38;5;28;01mfor\u001b[39;00m i, v \u001b[38;5;129;01min\u001b[39;00m \u001b[38;5;28menumerate\u001b[39m(rf_importance_df[\u001b[33m'\u001b[39m\u001b[33mimportance\u001b[39m\u001b[33m'\u001b[39m]):\n",
            "\u001b[31mNameError\u001b[39m: name 'sns' is not defined"
          ]
        },
        {
          "data": {
            "text/plain": [
              "<Figure size 1000x800 with 0 Axes>"
            ]
          },
          "metadata": {},
          "output_type": "display_data"
        }
      ],
      "source": [
        "rf_importances = clf_rf.feature_importances_\n",
        "rf_feature_names = x_train.columns\n",
        "rf_importance_df = pd.DataFrame({\n",
        "    'feature': rf_feature_names,\n",
        "    'importance': (rf_importances / sum(rf_importances)) * 100\n",
        "}).sort_values(by='importance', ascending=False)\n",
        "\n",
        "plt.figure(figsize=(10, 8))\n",
        "sns.set_style(\"whitegrid\")\n",
        "barplot = sns.barplot(\n",
        "    x=\"importance\", y=\"feature\",\n",
        "    data=rf_importance_df,\n",
        "    hue=\"feature\",\n",
        "    palette=\"crest\"\n",
        ")\n",
        "for i, v in enumerate(rf_importance_df['importance']):\n",
        "    plt.text(v + 0.5, i, f\"{v:.2f}%\", va='center')\n",
        "plt.xlabel(\"Importance (%)\",fontsize=14)\n",
        "plt.ylabel(\"Feature\",fontsize=14)\n",
        "plt.title(\"Feature Importance - Random Forest\", fontsize=16, weight='bold')\n",
        "plt.tight_layout()\n",
        "plt.show()"
      ]
    },
    {
      "cell_type": "markdown",
      "metadata": {},
      "source": [
        "# Using XGBoost\n"
      ]
    },
    {
      "cell_type": "code",
      "execution_count": null,
      "metadata": {
        "id": "OtOlbKmUYkem"
      },
      "outputs": [],
      "source": [
        "param_grid = {\n",
        "    'n_estimators': [100, 200],\n",
        "    'max_depth': [3, 5, 7],\n",
        "    'learning_rate': [0.01, 0.1],\n",
        "    'subsample': [0.8, 1],\n",
        "    'colsample_bytree': [0.8, 1]\n",
        "}\n",
        "\n",
        "x_train['AgeGroup'] = x_train['AgeGroup'].astype(int)\n",
        "x_train['IncomeGroup'] = x_train['IncomeGroup'].astype(int)\n",
        "x_test['AgeGroup'] = x_test['AgeGroup'].astype(int)\n",
        "x_test['IncomeGroup'] = x_test['IncomeGroup'].astype(int)"
      ]
    },
    {
      "cell_type": "markdown",
      "metadata": {},
      "source": [
        "# Model Accuracy (XGBoost)"
      ]
    },
    {
      "cell_type": "code",
      "execution_count": null,
      "metadata": {
        "colab": {
          "base_uri": "https://localhost:8080/"
        },
        "id": "T9cD3fuMbd0z",
        "outputId": "2134aae4-b727-4f6f-bb71-6a5509a51511"
      },
      "outputs": [],
      "source": [
        "xgb_clf = xgb.XGBClassifier(random_state=42)\n",
        "grid = GridSearchCV(estimator=xgb_clf, param_grid=param_grid, cv=3, scoring='f1', verbose=1)\n",
        "grid.fit(x_train, y_train)\n",
        "\n",
        "best_model = grid.best_estimator_\n",
        "y_pred = best_model.predict(x_test)\n",
        "print(f\"Accuracy: {accuracy_score(y_test, y_pred):.4f}\")"
      ]
    },
    {
      "cell_type": "code",
      "execution_count": null,
      "metadata": {
        "colab": {
          "base_uri": "https://localhost:8080/"
        },
        "id": "jn9v8VTIYtrY",
        "outputId": "e7391a3e-3df2-411e-9298-fcfed9877ec0"
      },
      "outputs": [],
      "source": [
        "\n",
        "print(f\"Best Hyperparameters: {grid.best_params_}\")\n"
      ]
    },
    {
      "cell_type": "markdown",
      "metadata": {},
      "source": [
        "# Classification Report (XGBoost)"
      ]
    },
    {
      "cell_type": "code",
      "execution_count": null,
      "metadata": {
        "colab": {
          "base_uri": "https://localhost:8080/"
        },
        "id": "K1ranLuybqYc",
        "outputId": "6aa1ad6f-d5a1-4ea7-93e6-135c4614b3b3"
      },
      "outputs": [],
      "source": [
        "print(\"\\nClassification Report:\")\n",
        "print(pd.DataFrame(classification_report(y_test, y_pred, output_dict=True)).transpose())\n",
        "\n",
        "\n",
        "print(\"\\nConfusion Matrix:\")\n",
        "print(confusion_matrix(y_test, y_pred))"
      ]
    },
    {
      "cell_type": "markdown",
      "metadata": {},
      "source": [
        "# AUC-ROC Curve"
      ]
    },
    {
      "cell_type": "code",
      "execution_count": null,
      "metadata": {
        "colab": {
          "base_uri": "https://localhost:8080/",
          "height": 472
        },
        "id": "KxSzM5sUY3D5",
        "outputId": "1be0cb2b-5f8c-4ab7-8acb-5873edbac955"
      },
      "outputs": [],
      "source": [
        "probs = best_model.predict_proba(x_test)[:, 1]\n",
        "fpr, tpr, _ = roc_curve(y_test, probs)\n",
        "auc_score = roc_auc_score(y_test, probs)\n",
        "\n",
        "plt.figure(figsize=(8, 6))\n",
        "plt.plot(fpr, tpr, color=\"darkorange\", lw=2, label=f\"AUC = {auc_score:.2f}\")\n",
        "\n",
        "plt.xlabel(\"False Positive Rate\", fontsize=12)\n",
        "plt.ylabel(\"True Positive Rate\", fontsize=12)\n",
        "plt.title(\"Receiver Operating Characteristic (ROC) Curve\", fontsize=14)\n",
        "plt.grid(True)\n",
        "plt.legend()\n",
        "plt.show()"
      ]
    },
    {
      "cell_type": "markdown",
      "metadata": {},
      "source": [
        "# Feature Importance (XGBoost)"
      ]
    },
    {
      "cell_type": "code",
      "execution_count": null,
      "metadata": {
        "colab": {
          "base_uri": "https://localhost:8080/",
          "height": 607
        },
        "id": "0qMRATk_Yuw7",
        "outputId": "0e2ce71d-72c4-4a6c-c2f2-57128bbf9ae4"
      },
      "outputs": [],
      "source": [
        "feature_importances = best_model.feature_importances_\n",
        "feature_names = x_train.columns\n",
        "importance_df = pd.DataFrame({\n",
        "    'feature': feature_names,\n",
        "    'importance': (feature_importances / sum(feature_importances)) * 100\n",
        "}).sort_values(by='importance', ascending=False)\n",
        "\n",
        "plt.figure(figsize=(10, 8))\n",
        "sns.set_style(\"whitegrid\")\n",
        "barplot = sns.barplot(\n",
        "    x=\"importance\", y=\"feature\",\n",
        "    data=importance_df,\n",
        "    hue=\"feature\",\n",
        "    palette=\"crest\"\n",
        ")\n",
        "for i, v in enumerate(importance_df['importance']):\n",
        "    plt.text(v + 0.5, i, f\"{v:.2f}%\", va='center')\n",
        "plt.xlabel(\"Importance (%)\",fontsize=14)\n",
        "plt.ylabel(\"Feature\",fontsize=14)\n",
        "plt.title(\"Feature Importance - XGBoost\", fontsize=16, weight='bold')\n",
        "plt.tight_layout()\n",
        "plt.show()\n"
      ]
    },
    {
      "cell_type": "code",
      "execution_count": null,
      "metadata": {},
      "outputs": [],
      "source": [
        "\n",
        "age_clicks = df.groupby('AgeGroup')['Clicked on Ad'].sum()\n",
        "age_impressions = df.groupby('AgeGroup')['Clicked on Ad'].count()\n",
        "age_ctr = df.groupby('AgeGroup')['Clicked on Ad'].mean()\n",
        "\n",
        "print('Total Clicks by Age Group:')\n",
        "print(age_clicks)\n",
        "print('\\nClick-Through Rate (CTR) by Age Group:')\n",
        "print(age_ctr)\n",
        "\n",
        "# Visualize CTR by Age Group\n",
        "plt.figure(figsize=(8, 5))\n",
        "age_ctr.plot(kind='bar', color='skyblue')\n",
        "plt.xlabel('Age Group')\n",
        "plt.ylabel('Click-Through Rate')\n",
        "plt.title('CTR by Age Group')\n",
        "plt.xticks(rotation=0)\n",
        "plt.tight_layout()\n",
        "plt.show()"
      ]
    }
  ],
  "metadata": {
    "colab": {
      "provenance": []
    },
    "kernelspec": {
      "display_name": ".venv",
      "language": "python",
      "name": "python3"
    },
    "language_info": {
      "codemirror_mode": {
        "name": "ipython",
        "version": 3
      },
      "file_extension": ".py",
      "mimetype": "text/x-python",
      "name": "python",
      "nbconvert_exporter": "python",
      "pygments_lexer": "ipython3",
      "version": "3.13.2"
    }
  },
  "nbformat": 4,
  "nbformat_minor": 0
}
